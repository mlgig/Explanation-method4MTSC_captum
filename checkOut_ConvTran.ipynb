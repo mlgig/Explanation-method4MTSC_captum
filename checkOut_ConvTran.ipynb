{
 "cells": [
  {
   "cell_type": "code",
   "execution_count": 1,
   "id": "initial_id",
   "metadata": {
    "ExecuteTime": {
     "end_time": "2023-11-28T08:46:36.745234643Z",
     "start_time": "2023-11-28T08:46:35.182439915Z"
    }
   },
   "outputs": [
    {
     "ename": "ModuleNotFoundError",
     "evalue": "No module named 'torch'",
     "output_type": "error",
     "traceback": [
      "\u001b[0;31m---------------------------------------------------------------------------\u001b[0m",
      "\u001b[0;31mModuleNotFoundError\u001b[0m                       Traceback (most recent call last)",
      "Cell \u001b[0;32mIn[1], line 1\u001b[0m\n\u001b[0;32m----> 1\u001b[0m \u001b[38;5;28;01mfrom\u001b[39;00m \u001b[38;5;21;01mpytorch_utils\u001b[39;00m \u001b[38;5;28;01mimport\u001b[39;00m transform_data4ResNet, transform2tensors, transform4ConvTran\n\u001b[1;32m      2\u001b[0m \u001b[38;5;28;01mimport\u001b[39;00m \u001b[38;5;21;01mtorch\u001b[39;00m\n\u001b[1;32m      3\u001b[0m \u001b[38;5;28;01mfrom\u001b[39;00m \u001b[38;5;21;01mmodels\u001b[39;00m\u001b[38;5;21;01m.\u001b[39;00m\u001b[38;5;21;01mConvTran\u001b[39;00m\u001b[38;5;21;01m.\u001b[39;00m\u001b[38;5;21;01mutils\u001b[39;00m \u001b[38;5;28;01mimport\u001b[39;00m Setup, Initialization\n",
      "File \u001b[0;32m~/workspace/PhD/MTSC_explanations_comparison/MTSC_explanations_comparison/pytorch_utils.py:2\u001b[0m\n\u001b[1;32m      1\u001b[0m \u001b[38;5;28;01mimport\u001b[39;00m \u001b[38;5;21;01mnumpy\u001b[39;00m \u001b[38;5;28;01mas\u001b[39;00m \u001b[38;5;21;01mnp\u001b[39;00m\n\u001b[0;32m----> 2\u001b[0m \u001b[38;5;28;01mfrom\u001b[39;00m \u001b[38;5;21;01mutils\u001b[39;00m \u001b[38;5;28;01mimport\u001b[39;00m one_hot_encoding, gen_cube, MyDataset\n\u001b[1;32m      3\u001b[0m \u001b[38;5;28;01mfrom\u001b[39;00m \u001b[38;5;21;01mtorch\u001b[39;00m\u001b[38;5;21;01m.\u001b[39;00m\u001b[38;5;21;01mutils\u001b[39;00m\u001b[38;5;21;01m.\u001b[39;00m\u001b[38;5;21;01mdata\u001b[39;00m \u001b[38;5;28;01mimport\u001b[39;00m DataLoader\n\u001b[1;32m      4\u001b[0m \u001b[38;5;28;01mimport\u001b[39;00m \u001b[38;5;21;01mtorch\u001b[39;00m\n",
      "File \u001b[0;32m~/workspace/PhD/MTSC_explanations_comparison/MTSC_explanations_comparison/utils.py:2\u001b[0m\n\u001b[1;32m      1\u001b[0m \u001b[38;5;28;01mfrom\u001b[39;00m \u001b[38;5;21;01msklearn\u001b[39;00m\u001b[38;5;21;01m.\u001b[39;00m\u001b[38;5;21;01mpreprocessing\u001b[39;00m \u001b[38;5;28;01mimport\u001b[39;00m LabelEncoder\n\u001b[0;32m----> 2\u001b[0m \u001b[38;5;28;01mfrom\u001b[39;00m \u001b[38;5;21;01mtorch\u001b[39;00m\u001b[38;5;21;01m.\u001b[39;00m\u001b[38;5;21;01mutils\u001b[39;00m \u001b[38;5;28;01mimport\u001b[39;00m data\n\u001b[1;32m      3\u001b[0m \u001b[38;5;28;01mimport\u001b[39;00m \u001b[38;5;21;01mmatplotlib\u001b[39;00m\u001b[38;5;21;01m.\u001b[39;00m\u001b[38;5;21;01mpyplot\u001b[39;00m \u001b[38;5;28;01mas\u001b[39;00m \u001b[38;5;21;01mplt\u001b[39;00m\n\u001b[1;32m      4\u001b[0m \u001b[38;5;28;01mimport\u001b[39;00m \u001b[38;5;21;01mnumpy\u001b[39;00m \u001b[38;5;28;01mas\u001b[39;00m \u001b[38;5;21;01mnp\u001b[39;00m\n",
      "\u001b[0;31mModuleNotFoundError\u001b[0m: No module named 'torch'"
     ]
    }
   ],
   "source": [
    "from pytorch_utils import transform_data4ResNet, transform2tensors, transform4ConvTran\n",
    "import torch\n",
    "from models.ConvTran.utils import Setup, Initialization\n",
    "from models.ConvTran.hyper_parameters import params as transform_params\n",
    "from models.ConvTran.Models.model import ConvTran\n",
    "from models.ConvTran.Training import SupervisedTrainer, train_runner\n"
   ]
  },
  {
   "cell_type": "code",
   "execution_count": 4,
   "id": "5a5a7c7961ca417b",
   "metadata": {
    "ExecuteTime": {
     "end_time": "2023-11-28T08:46:42.770094733Z",
     "start_time": "2023-11-28T08:46:42.768007302Z"
    },
    "collapsed": false,
    "jupyter": {
     "outputs_hidden": false
    }
   },
   "outputs": [
    {
     "data": {
      "text/plain": [
       "False"
      ]
     },
     "execution_count": 4,
     "metadata": {},
     "output_type": "execute_result"
    }
   ],
   "source": [
    "# return value has to be False if you didn't install all the nvidia dependecies to use the GPU\n",
    "torch.cuda.is_available()"
   ]
  },
  {
   "cell_type": "code",
   "execution_count": 5,
   "id": "d312518abd260d9b",
   "metadata": {
    "ExecuteTime": {
     "end_time": "2023-11-28T08:46:49.342537779Z",
     "start_time": "2023-11-28T08:46:49.338076277Z"
    },
    "collapsed": false,
    "jupyter": {
     "outputs_hidden": false
    }
   },
   "outputs": [],
   "source": [
    "def instantiate_convTran( n_classes, test_X, test_y, train_X, train_y,device):\n",
    "    \n",
    "    # config is a dictionary containing all the default hyper-parameters for ConvTran\n",
    "    config = {'data_path': 'Dataset/UEA/', 'output_dir': 'Results', 'Norm': False, 'val_ratio': 0.2,\n",
    "\t          'print_interval': 10, 'Net_Type': ['C-T'], 'emb_size': 16, 'dim_ff': 256, 'num_heads': 8,\n",
    "\t          'Fix_pos_encode': 'tAPE', 'Rel_pos_encode': 'eRPE', 'epochs': 100, 'batch_size': 16,\n",
    "\t          'lr': 0.001, 'dropout': 0.01, 'val_interval': 2, 'key_metric': 'accuracy', 'gpu': 0,\n",
    "\t          'console': False, 'seed': None}\n",
    "\n",
    "    device = Initialization(config,dev=device)\n",
    "    \n",
    "    # loading data and initializing the model\n",
    "    train_loader, test_loader, enc = transform4ConvTran(config, n_classes, test_X, test_y, train_X, train_y)\n",
    "    model = ConvTran(config, num_classes=config['num_labels']).to(device)\n",
    "    \n",
    "    # set optimizer and instantiate train and vali loader\n",
    "    config['optimizer'] = torch.optim.Adam(model.parameters())\n",
    "    trainer = SupervisedTrainer(model, train_loader, device, config['loss_module'], config['optimizer'], l2_reg=0,\n",
    "                                print_interval=config['print_interval'], console=config['console'],\n",
    "                                print_conf_mat=False)\n",
    "    val_evaluator = SupervisedTrainer(model, test_loader, device, config['loss_module'],\n",
    "                                      print_interval=config['print_interval'], console=config['console'],\n",
    "                                      print_conf_mat=False)\n",
    "    return config, device, model, trainer, val_evaluator"
   ]
  },
  {
   "cell_type": "markdown",
   "id": "cdd707ee-002e-45ff-9b4c-7c13da3ef70c",
   "metadata": {},
   "source": [
    "using a sample dataset used in the sktime documentation"
   ]
  },
  {
   "cell_type": "code",
   "execution_count": 6,
   "id": "f3b226623ed7e659",
   "metadata": {
    "ExecuteTime": {
     "end_time": "2023-11-28T08:46:55.315764224Z",
     "start_time": "2023-11-28T08:46:55.234551057Z"
    },
    "collapsed": false,
    "jupyter": {
     "outputs_hidden": false
    }
   },
   "outputs": [],
   "source": [
    "from sktime.datasets import load_basic_motions\n",
    "from  sktime.datatypes._panel._convert import from_nested_to_3d_numpy"
   ]
  },
  {
   "cell_type": "code",
   "execution_count": 7,
   "id": "67d9f9b5a4470319",
   "metadata": {
    "ExecuteTime": {
     "end_time": "2023-11-28T08:46:55.970235014Z",
     "start_time": "2023-11-28T08:46:55.936115470Z"
    },
    "collapsed": false,
    "jupyter": {
     "outputs_hidden": false
    }
   },
   "outputs": [],
   "source": [
    "X_train, y_train = load_basic_motions(split=\"train\")\n",
    "X_test, y_test = load_basic_motions(split=\"test\") \n",
    "X_train = from_nested_to_3d_numpy(X_train)\n",
    "X_test = from_nested_to_3d_numpy(X_test)"
   ]
  },
  {
   "cell_type": "code",
   "execution_count": 8,
   "id": "2550405575f9b8d6",
   "metadata": {
    "ExecuteTime": {
     "end_time": "2023-11-28T08:46:56.723209106Z",
     "start_time": "2023-11-28T08:46:56.716084868Z"
    },
    "collapsed": false,
    "jupyter": {
     "outputs_hidden": false
    }
   },
   "outputs": [
    {
     "name": "stdout",
     "output_type": "stream",
     "text": [
      "(40, 6, 100) (40, 6, 100) <class 'numpy.ndarray'> <class 'numpy.ndarray'>\n"
     ]
    }
   ],
   "source": [
    "print(X_train.shape , X_test.shape, type(X_train), type(X_test),)"
   ]
  },
  {
   "cell_type": "markdown",
   "id": "152e1fec-794a-4503-bb67-56f47ac67bb6",
   "metadata": {},
   "source": [
    "it is important to use the function from_nested_to_3d_numpy transforming a pandas dataframe into a numpy array ( I didn't test with pandas )"
   ]
  },
  {
   "cell_type": "code",
   "execution_count": 9,
   "id": "9817eb04955ef49c",
   "metadata": {
    "ExecuteTime": {
     "end_time": "2023-11-28T08:47:02.513950864Z",
     "start_time": "2023-11-28T08:47:02.345141648Z"
    },
    "collapsed": false,
    "jupyter": {
     "outputs_hidden": false
    }
   },
   "outputs": [
    {
     "name": "stderr",
     "output_type": "stream",
     "text": [
      "2023-11-28 10:51:08,958 | INFO : Using device: cpu\n",
      "/home/davide/miniconda3/envs/MTSC_exp_comp/lib/python3.10/site-packages/torch/functional.py:504: UserWarning: torch.meshgrid: in an upcoming release, it will be required to pass the indexing argument. (Triggered internally at ../aten/src/ATen/native/TensorShape.cpp:3526.)\n",
      "  return _VF.meshgrid(tensors, **kwargs)  # type: ignore[attr-defined]\n"
     ]
    }
   ],
   "source": [
    "n_classes = X_train.shape[1]\n",
    "config, device, model, trainer, val_evaluator = instantiate_convTran(n_classes=n_classes, test_X=X_test, test_y=y_test, train_X=X_train, train_y=y_train,device=\"cpu\")"
   ]
  },
  {
   "cell_type": "code",
   "execution_count": null,
   "id": "f3e9e9b1-7438-4043-a53c-a57cac24b176",
   "metadata": {
    "ExecuteTime": {
     "end_time": "2023-11-28T08:47:21.891172384Z",
     "start_time": "2023-11-28T08:47:15.400664596Z"
    }
   },
   "outputs": [],
   "source": [
    "# this code is currently saving the model into a file, in case you put a non-valid \n",
    "# file/ path you're gonna get an error\n",
    "saving_file = \"tmp.pt\"\n",
    "train_runner(config, model, trainer, val_evaluator,saving_file)"
   ]
  },
  {
   "cell_type": "markdown",
   "id": "abe41eb1272b145e",
   "metadata": {
    "collapsed": false,
    "jupyter": {
     "outputs_hidden": false
    }
   },
   "source": []
  },
  {
   "cell_type": "code",
   "execution_count": null,
   "id": "fb100bac53f131e4",
   "metadata": {
    "collapsed": false,
    "jupyter": {
     "outputs_hidden": false
    }
   },
   "outputs": [],
   "source": []
  }
 ],
 "metadata": {
  "kernelspec": {
   "display_name": "Python 3 (ipykernel)",
   "language": "python",
   "name": "python3"
  },
  "language_info": {
   "codemirror_mode": {
    "name": "ipython",
    "version": 3
   },
   "file_extension": ".py",
   "mimetype": "text/x-python",
   "name": "python",
   "nbconvert_exporter": "python",
   "pygments_lexer": "ipython3",
   "version": "3.8.18"
  }
 },
 "nbformat": 4,
 "nbformat_minor": 5
}
