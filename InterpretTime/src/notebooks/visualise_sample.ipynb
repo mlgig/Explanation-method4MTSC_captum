{
 "cells": [
  {
   "cell_type": "code",
   "execution_count": null,
   "metadata": {},
   "outputs": [],
   "source": [
    "import os\n",
    "import warnings\n",
    "import matplotlib.pyplot as plt\n",
    "import numpy as np\n",
    "import pandas as pd\n",
    "from petastorm import make_reader\n",
    "from petastorm.predicates import in_lambda\n",
    "\n",
    "warnings.simplefilter(action='ignore', category=FutureWarning)\n",
    "SMALL_SIZE = 18\n",
    "MEDIUM_SIZE = 20\n",
    "BIGGER_SIZE = 22\n",
    "\n",
    "# plt.rcParams[\"font.family\"] = 'Times New Roman'\n",
    "plt.rc('font', size=SMALL_SIZE)          # controls default text sizes\n",
    "plt.rc('axes', titlesize=SMALL_SIZE)     # fontsize of the axes title\n",
    "plt.rc('axes', labelsize=MEDIUM_SIZE)    # fontsize of the x and y labels\n",
    "plt.rc('xtick', labelsize=SMALL_SIZE)    # fontsize of the tick labels\n",
    "plt.rc('ytick', labelsize=SMALL_SIZE)    # fontsize of the tick labels\n",
    "plt.rc('legend', fontsize=SMALL_SIZE)    # legend fontsize"
   ]
  },
  {
   "cell_type": "code",
   "execution_count": null,
   "metadata": {},
   "outputs": [],
   "source": [
    "data_path = os.path.abspath(\"../../data/datasets/synthetic/dataParquet\") # Set your path to the dataser in parquet format\n",
    "data_path = f\"file:///{data_path}\" # Add file prefix for local file system, required for petastorm"
   ]
  },
  {
   "cell_type": "code",
   "execution_count": null,
   "metadata": {},
   "outputs": [],
   "source": [
    "sample_name = [\"sample_1012\"] # Set the name(s) of the sample you want to visualise\n",
    "predicate_expr =  in_lambda([\"noun_id\"], lambda noun_id: noun_id.astype(\"str\") in sample_name) # Create a predicate to filter the dataset\n",
    "with make_reader(data_path, predicate = predicate_expr) as reader:\n",
    "    for idx,sample in enumerate(reader):\n",
    "        signal=  sample.signal\n",
    "        name = sample.noun_id.decode(\"utf-8\")\n",
    "        break"
   ]
  },
  {
   "cell_type": "code",
   "execution_count": null,
   "metadata": {},
   "outputs": [],
   "source": [
    "fig, ax = plt.subplots(nrows= signal.shape[1],  figsize=(12,15))\n",
    "for idx in range(signal.shape[1]):\n",
    "    ax[idx].plot(signal[:,idx])\n",
    "    ax[idx].set_title(\"Feature {}\".format(idx+1), fontsize = 20)\n",
    "    ax[idx].set_xlabel(\"$n$\", fontsize = 20)\n",
    "    ax[idx].set_ylabel(\"$A$\", fontsize = 20)\n",
    "    ax[idx].xaxis.set_tick_params(labelsize=20)\n",
    "    ax[idx].yaxis.set_tick_params(labelsize=20)\n",
    "    ax[idx].set_ylim(-1.6, 1.6)\n",
    "plt.tight_layout()"
   ]
  }
 ],
 "metadata": {
  "kernelspec": {
   "display_name": ".venv",
   "language": "python",
   "name": "python3"
  },
  "language_info": {
   "codemirror_mode": {
    "name": "ipython",
    "version": 3
   },
   "file_extension": ".py",
   "mimetype": "text/x-python",
   "name": "python",
   "nbconvert_exporter": "python",
   "pygments_lexer": "ipython3",
   "version": "3.8.16"
  },
  "orig_nbformat": 4,
  "vscode": {
   "interpreter": {
    "hash": "d59d8ec59ac0ed6a91aadbfdb4fb3fa55c9157ae2de9e66f28de6726f22506ee"
   }
  }
 },
 "nbformat": 4,
 "nbformat_minor": 2
}
